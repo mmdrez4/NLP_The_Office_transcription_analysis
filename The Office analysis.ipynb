{
 "cells": [
  {
   "cell_type": "markdown",
   "metadata": {},
   "source": [
    "# MIR HW2\n",
    "### Mohammadreza Daviran - 98101566"
   ]
  },
  {
   "cell_type": "markdown",
   "metadata": {},
   "source": [
    "I have gathered The Office transcript from [this website](https://transcripts.foreverdreaming.org/viewforum.php?f=574). Then I did some preprocessing on the data and analyzed it which I will explain later."
   ]
  },
  {
   "cell_type": "markdown",
   "metadata": {},
   "source": [
    "## Crawl and find the dataset"
   ]
  },
  {
   "cell_type": "markdown",
   "metadata": {},
   "source": [
    "### Install and import required libraries"
   ]
  },
  {
   "cell_type": "code",
   "execution_count": 301,
   "metadata": {
    "scrolled": true
   },
   "outputs": [
    {
     "name": "stdout",
     "output_type": "stream",
     "text": [
      "Requirement already satisfied: httplib2 in /Users/mohammadreza/opt/anaconda3/lib/python3.8/site-packages (0.20.4)\r\n",
      "Requirement already satisfied: pyparsing!=3.0.0,!=3.0.1,!=3.0.2,!=3.0.3,<4,>=2.4.2 in /Users/mohammadreza/opt/anaconda3/lib/python3.8/site-packages (from httplib2) (2.4.7)\r\n"
     ]
    }
   ],
   "source": [
    "!pip install httplib2"
   ]
  },
  {
   "cell_type": "code",
   "execution_count": 1,
   "metadata": {},
   "outputs": [],
   "source": [
    "from urllib.request import urlopen\n",
    "from bs4 import BeautifulSoup, SoupStrainer\n",
    "import urllib.request\n",
    "import time\n",
    "import os\n",
    "from pathlib import Path\n",
    "import httplib2"
   ]
  },
  {
   "cell_type": "markdown",
   "metadata": {},
   "source": [
    "### pass the requirements and find all the links"
   ]
  },
  {
   "cell_type": "code",
   "execution_count": 2,
   "metadata": {},
   "outputs": [],
   "source": [
    "def get_links(url, linkList = []):\n",
    "    http = httplib2.Http()\n",
    "    status, response = http.request(url)\n",
    "    for link in BeautifulSoup(response, 'html.parser', parse_only=SoupStrainer('a')):\n",
    "        if link.has_attr('class') and 'topictitle' in link['class'] and link.has_attr('title') and 'Thank' not in link['title']:\n",
    "            sublink = link['href'][2:]\n",
    "            fullLink = 'https://transcripts.foreverdreaming.org/' + sublink\n",
    "            linkList.append(fullLink)\n",
    "    return linkList"
   ]
  },
  {
   "cell_type": "code",
   "execution_count": 3,
   "metadata": {},
   "outputs": [],
   "source": [
    "linkList = []\n",
    "url = \"https://transcripts.foreverdreaming.org/viewforum.php?f=574\"\n",
    "linkList = get_links(url)\n",
    "\n",
    "for index in range(25,200,25):\n",
    "    url = f'{url}&start={index}'\n",
    "    linkList = get_links(url, linkList)"
   ]
  },
  {
   "cell_type": "markdown",
   "metadata": {},
   "source": [
    "### save the data"
   ]
  },
  {
   "cell_type": "markdown",
   "metadata": {},
   "source": [
    "After finding all the links, I used BeautifulSoup to download the scripts and save them in \"The_Office_transcript.txt\". Besides it is possible to save all the episodes and seasons separately in different scripts(These are already in the dataset)."
   ]
  },
  {
   "cell_type": "code",
   "execution_count": 4,
   "metadata": {},
   "outputs": [],
   "source": [
    "def episode_num(num):\n",
    "    if i < 10:\n",
    "        episode = \"0\" + str(num)\n",
    "    else:\n",
    "        episode = str(num)"
   ]
  },
  {
   "cell_type": "code",
   "execution_count": 288,
   "metadata": {},
   "outputs": [
    {
     "name": "stdout",
     "output_type": "stream",
     "text": [
      "01x01\n",
      "01x02\n",
      "01x03\n",
      "01x04\n",
      "01x05\n",
      "01x06\n",
      "01x99\n",
      "02x01\n",
      "02x02\n",
      "02x03\n",
      "02x04\n",
      "02x05\n",
      "02x06\n",
      "02x07\n",
      "02x09\n",
      "02x10\n",
      "02x11\n",
      "02x12\n",
      "02x13\n",
      "02x14\n",
      "02x15\n",
      "02x16\n",
      "02x17\n",
      "02x18\n",
      "02x19\n",
      "02x21\n",
      "02x22\n",
      "02x99\n",
      "03x00\n",
      "03x01\n",
      "03x02\n",
      "03x03\n",
      "03x04\n",
      "03x05\n",
      "03x06\n",
      "03x07\n",
      "03x08\n",
      "03x09\n",
      "03x10\n",
      "03x12\n",
      "03x13\n",
      "03x14\n",
      "03x15\n",
      "03x16\n",
      "03x17\n",
      "03x18\n",
      "03x19\n",
      "03x20\n",
      "03x21\n",
      "03x22\n",
      "03x23\n",
      "03x24\n",
      "03x99\n",
      "04x01\n",
      "04x03\n",
      "04x05\n",
      "04x07\n",
      "04x09\n",
      "04x11\n",
      "04x12\n",
      "04x13\n",
      "04x14\n",
      "04x15\n",
      "04x16\n",
      "04x17\n",
      "04x18\n",
      "04x99\n",
      "05x00\n",
      "05x01\n",
      "05x03\n",
      "05x04\n",
      "05x05\n",
      "05x06\n",
      "05x07\n",
      "05x08\n",
      "05x09\n",
      "05x10\n",
      "05x11\n",
      "05x12\n",
      "05x13\n",
      "05x14\n",
      "05x16\n",
      "05x17\n",
      "05x18\n",
      "05x19\n",
      "05x20\n",
      "05x21\n",
      "05x23\n",
      "05x24\n",
      "05x25\n",
      "05x26\n",
      "05x28\n",
      "05x29\n",
      "05x30\n",
      "05x99\n",
      "06x00\n",
      "06x01\n",
      "06x03\n",
      "06x04\n",
      "06x06\n",
      "06x07\n",
      "06x08\n",
      "06x10\n",
      "06x11\n",
      "06x12\n",
      "06x13\n",
      "06x14\n",
      "06x15\n",
      "06x16\n",
      "06x17\n",
      "06x19\n",
      "06x20\n",
      "06x21\n",
      "06x22\n",
      "06x23\n",
      "06x24\n",
      "06x25\n",
      "06x26\n",
      "07x01\n",
      "07x02\n",
      "07x03\n",
      "07x04\n",
      "07x05\n",
      "07x06\n",
      "07x07\n",
      "07x08\n",
      "07x09\n",
      "07x10\n",
      "07x11\n",
      "07x13\n",
      "07x14\n",
      "07x15\n",
      "07x16\n",
      "07x17\n",
      "07x18\n",
      "07x19\n",
      "07x20\n",
      "07x21\n",
      "07x22\n",
      "07x23\n",
      "07x24\n",
      "07x25\n",
      "08x01\n",
      "08x02\n",
      "08x03\n",
      "08x04\n",
      "08x05\n",
      "08x06\n",
      "08x07\n",
      "08x08\n",
      "08x09\n",
      "08x11\n",
      "08x12\n",
      "08x13\n",
      "08x14\n",
      "08x15\n",
      "08x16\n",
      "08x17\n",
      "08x18\n",
      "08x19\n",
      "08x20\n",
      "08x21\n",
      "08x22\n",
      "08x23\n",
      "08x24\n",
      "08x99\n",
      "09x01\n",
      "09x02\n",
      "09x03\n",
      "09x04\n",
      "09x05\n",
      "09x06\n",
      "09x07\n",
      "09x08\n",
      "09x09\n",
      "09x10\n",
      "09x11\n",
      "09x12\n",
      "09x13\n",
      "09x14\n",
      "09x15\n",
      "09x16\n",
      "09x17\n",
      "09x18\n",
      "09x19\n",
      "09x20\n",
      "09x21\n",
      "09x22\n",
      "09x24\n",
      "09x26\n"
     ]
    }
   ],
   "source": [
    "# number_of_episodes = [6, 22, 25, 19, 28, 26, 26, 24, 25]\n",
    "separated_by_seasons = False\n",
    "\n",
    "path = 'The_Office_dataset'\n",
    "Path(path).mkdir(parents=True, exist_ok=True)\n",
    "\n",
    "if not separated_by_seasons:\n",
    "    transcript = open('The_Office_transcript.txt', 'a+')\n",
    "\n",
    "counter = 1\n",
    "for link in linkList:\n",
    "    \n",
    "    html = urlopen(link).read()\n",
    "    soup = BeautifulSoup(html, features=\"html.parser\")\n",
    "\n",
    "    for script in soup([\"script\", \"style\"]):\n",
    "        script.extract()   \n",
    "\n",
    "    text = soup.get_text()\n",
    "\n",
    "    lines = (line.strip() for line in text.splitlines())\n",
    "    chunks = (phrase.strip() for line in lines for phrase in line.split(\"  \"))\n",
    "    text = '\\n'.join(chunk for chunk in chunks if chunk)\n",
    "    text = text.strip()\n",
    "    \n",
    "    print(text[:5])\n",
    "    \n",
    "    season_num = text.strip()[:2]\n",
    "\n",
    "    if separated_by_seasons:\n",
    "        path = os.path.join('The_Office_dataset', f'season_{season_num}')\n",
    "        Path(path).mkdir(parents=True, exist_ok=True)\n",
    "\n",
    "    if separated_by_seasons:\n",
    "        file = open(\"The_Office_dataset/season_\" + str(season_num) + \"/\" + text[:5] + '.txt', 'w')\n",
    "        file.write(text)\n",
    "        file.close()\n",
    "    else:\n",
    "        transcript.write(text)\n",
    "        transcript.write(\"\\n\")\n",
    "    \n",
    "    if counter == 190:\n",
    "        break\n",
    "    counter += 1\n",
    "\n",
    "\n",
    "transcript.close()"
   ]
  },
  {
   "cell_type": "markdown",
   "metadata": {},
   "source": [
    "## Separate the script"
   ]
  },
  {
   "cell_type": "markdown",
   "metadata": {},
   "source": [
    "### Install and import required libraries"
   ]
  },
  {
   "cell_type": "markdown",
   "metadata": {},
   "source": [
    "In this section I remove parentheses and modified the data. Further I find a script for each one of 25 main casts."
   ]
  },
  {
   "cell_type": "code",
   "execution_count": 133,
   "metadata": {},
   "outputs": [],
   "source": [
    "import random \n",
    "import tqdm\n",
    "import nltk\n",
    "from nltk.corpus import brown\n",
    "from nltk import word_tokenize\n",
    "import string\n",
    "import csv\n",
    "import re\n",
    "import pandas as pd\n",
    "import matplotlib.pyplot as plt\n",
    "import itertools"
   ]
  },
  {
   "cell_type": "code",
   "execution_count": 250,
   "metadata": {},
   "outputs": [
    {
     "name": "stderr",
     "output_type": "stream",
     "text": [
      "[nltk_data] Downloading package stopwords to\n",
      "[nltk_data]     /Users/mohammadreza/nltk_data...\n",
      "[nltk_data]   Package stopwords is already up-to-date!\n",
      "[nltk_data] Downloading package punkt to\n",
      "[nltk_data]     /Users/mohammadreza/nltk_data...\n",
      "[nltk_data]   Package punkt is already up-to-date!\n",
      "[nltk_data] Downloading package averaged_perceptron_tagger to\n",
      "[nltk_data]     /Users/mohammadreza/nltk_data...\n",
      "[nltk_data]   Package averaged_perceptron_tagger is already up-to-\n",
      "[nltk_data]       date!\n",
      "[nltk_data] Downloading package wordnet to\n",
      "[nltk_data]     /Users/mohammadreza/nltk_data...\n",
      "[nltk_data]   Package wordnet is already up-to-date!\n",
      "[nltk_data] Downloading package vader_lexicon to\n",
      "[nltk_data]     /Users/mohammadreza/nltk_data...\n",
      "[nltk_data]   Package vader_lexicon is already up-to-date!\n"
     ]
    },
    {
     "data": {
      "text/plain": [
       "True"
      ]
     },
     "execution_count": 250,
     "metadata": {},
     "output_type": "execute_result"
    }
   ],
   "source": [
    "from nltk.corpus import stopwords \n",
    "from nltk.tokenize import word_tokenize \n",
    "from nltk.tokenize import sent_tokenize\n",
    "nltk.download('stopwords')\n",
    "nltk.download('punkt')\n",
    "nltk.download('averaged_perceptron_tagger')\n",
    "nltk.download('wordnet')\n",
    "nltk.download('vader_lexicon')"
   ]
  },
  {
   "cell_type": "code",
   "execution_count": 251,
   "metadata": {},
   "outputs": [],
   "source": [
    "def modify(text):\n",
    "    text = text.strip('\\n')\n",
    "    text = text.strip('\\t')\n",
    "    text = text.replace('\\n','')\n",
    "    text = text.replace('\\t','')\n",
    "    return text"
   ]
  },
  {
   "cell_type": "markdown",
   "metadata": {},
   "source": [
    "### script for main characters\n",
    "I've separated the transcript into 25 sections for each person to analyze later."
   ]
  },
  {
   "cell_type": "code",
   "execution_count": 212,
   "metadata": {},
   "outputs": [],
   "source": [
    "Michael = ''\n",
    "Dwight = ''\n",
    "Jim = ''\n",
    "Pam = ''\n",
    "Ryan = ''\n",
    "Stanley = ''\n",
    "Kevin = ''\n",
    "Meredith = ''\n",
    "Angela = ''\n",
    "Oscar = ''\n",
    "Phyllis = ''\n",
    "Roy = ''\n",
    "Jan = ''\n",
    "Toby = ''\n",
    "Kelly = ''\n",
    "Andy = ''\n",
    "Creed = ''\n",
    "Darryl = ''\n",
    "Erin = ''\n",
    "Gabe = ''\n",
    "Holly = ''\n",
    "Robert = ''\n",
    "Nellie = ''\n",
    "Clark = ''\n",
    "Pete = ''\n",
    "\n",
    "transcript = \"\"\n",
    "\n",
    "main_characters = {}\n",
    "\n",
    "file = open('The_Office_transcript.txt', 'r')\n",
    "\n",
    "for line in file.readlines():\n",
    "    refined_line = re.sub(r'\\([^)]*\\)', '', line)\n",
    "    refined_line = re.sub(r'\\[[^)]*\\]', '', refined_line)\n",
    "    transcript += refined_line + ' '\n",
    "    if refined_line.startswith(\"Michael:\"):\n",
    "        Michael += ' ' + (refined_line[len(\"Michael\") + 2:])\n",
    "    elif refined_line.startswith('Dwight:'):\n",
    "        Dwight += ' '+(refined_line[len(\"Dwight\") + 2:])\n",
    "    elif refined_line.startswith('Jim:'):\n",
    "        Jim += ' '+(refined_line[len(\"Jim\") + 2:])\n",
    "    elif refined_line.startswith('Pam:'):\n",
    "        Pam += ' '+(refined_line[len(\"Pam\") + 2:])\n",
    "    elif refined_line.startswith('Ryan:'):\n",
    "        Ryan += ' '+(refined_line[len(\"Ryan\") + 2:])\n",
    "    elif refined_line.startswith('Stanley:'):\n",
    "        Stanley += ' ' + (refined_line[len(\"Stanley\") + 2:])\n",
    "    elif refined_line.startswith('Kevin:'):\n",
    "        Kevin += ' '+(refined_line[len(\"Kevin\") + 2:])\n",
    "    elif refined_line.startswith('Meredith:'):\n",
    "        Meredith += ' '+(refined_line[len(\"Meredith\") + 2:])\n",
    "    elif refined_line.startswith('Angela:'):\n",
    "        Angela += ' '+(refined_line[len(\"Angela\") + 2:])\n",
    "    elif refined_line.startswith('Oscar:'):\n",
    "        Oscar += ' '+(refined_line[len(\"Oscar\") + 2:])\n",
    "    elif refined_line.startswith('Phyllis:'):\n",
    "        Phyllis += ' '+(refined_line[len(\"Phyllis\") + 2:])\n",
    "    elif refined_line.startswith('Roy:'):\n",
    "        Roy += ' '+(refined_line[len(\"Roy\") + 2:])\n",
    "    elif refined_line.startswith('Jan:'):\n",
    "        Jan += ' '+(refined_line[len(\"Jan\") + 2:])\n",
    "    elif refined_line.startswith('Toby:'):\n",
    "        Toby += ' '+(refined_line[len(\"Toby\") + 2:])\n",
    "    elif refined_line.startswith('Kelly:'):\n",
    "        Kelly += ' '+(refined_line[len(\"Kelly\") + 2:])\n",
    "    elif refined_line.startswith('Creed:'):\n",
    "        Creed += ' '+(refined_line[len(\"Creed\") + 2:])\n",
    "    elif refined_line.startswith('Darryl:'):\n",
    "        Darryl += ' '+(refined_line[len(\"Darryl\") + 2:])\n",
    "    elif refined_line.startswith('Andy:'):\n",
    "        Andy += ' '+(refined_line[len(\"Andy\") + 2:])\n",
    "    elif refined_line.startswith('Erin:'):\n",
    "        Erin += ' '+(refined_line[len(\"Erin\") + 2:])\n",
    "    elif refined_line.startswith('Gabe:'):\n",
    "        Gabe += ' '+(refined_line[len(\"Gabe\") + 2:])\n",
    "    elif refined_line.startswith('Holly:'):\n",
    "        Holly += ' '+(refined_line[len(\"Holly\") + 2:])\n",
    "    elif refined_line.startswith('Robert:'):\n",
    "        Robert += ' '+(refined_line[len(\"Robert\") + 2:])\n",
    "    elif refined_line.startswith('Nellie:'):\n",
    "        Nellie += ' '+(refined_line[len(\"Nellie\") + 2:])\n",
    "    elif refined_line.startswith('Clark:'):\n",
    "        Clark += ' '+(refined_line[len(\"Clark\") + 2:])\n",
    "    elif refined_line.startswith('Pete:'):\n",
    "        Pete += ' '+(refined_line[len(\"Pete\") + 2:])\n",
    "\n",
    "\n",
    "main_characters['Michael'] = modify(Michael)\n",
    "main_characters['Dwight'] = modify(Dwight)\n",
    "main_characters['Jim'] = modify(Jim)\n",
    "main_characters['Pam'] = modify(Pam)\n",
    "main_characters['Ryan'] = modify(Ryan)\n",
    "main_characters['Stanley'] = modify(Stanley)\n",
    "main_characters['Kevin'] = modify(Kevin)\n",
    "main_characters['Meredith'] = modify(Meredith)\n",
    "main_characters['Angela'] = modify(Angela)\n",
    "main_characters['Oscar'] = modify(Oscar)\n",
    "main_characters['Phyllis'] = modify(Phyllis)\n",
    "main_characters['Roy'] = modify(Roy)\n",
    "main_characters['Jan'] = modify(Jan)\n",
    "main_characters['Toby'] = modify(Toby)\n",
    "main_characters['Kelly'] = modify(Kelly)\n",
    "main_characters['Andy'] = modify(Andy)\n",
    "main_characters['Creed'] = modify(Creed)\n",
    "main_characters['Darryl'] = modify(Darryl)\n",
    "main_characters['Erin'] = modify(Erin)\n",
    "main_characters['Gabe'] = modify(Gabe)\n",
    "main_characters['Holly'] = modify(Holly)\n",
    "main_characters['Robert'] = modify(Robert)\n",
    "main_characters['Nellie'] = modify(Nellie)\n",
    "main_characters['Clark'] = modify(Clark)\n",
    "main_characters['Pete'] = modify(Pete)\n",
    "transcript = modify(transcript)\n",
    "\n",
    "file.close()"
   ]
  },
  {
   "cell_type": "markdown",
   "metadata": {},
   "source": [
    "## Tokenization and Normalization"
   ]
  },
  {
   "cell_type": "markdown",
   "metadata": {},
   "source": [
    "In this section I calculate the number of all words and sentences for each of the 25 main characters and also for the main transcript."
   ]
  },
  {
   "cell_type": "code",
   "execution_count": 253,
   "metadata": {},
   "outputs": [],
   "source": [
    "def tokenize(data):\n",
    "    word_tokens = word_tokenize(data)\n",
    "    return word_tokens"
   ]
  },
  {
   "cell_type": "code",
   "execution_count": 271,
   "metadata": {},
   "outputs": [],
   "source": [
    "stop_words = set(stopwords.words('english'))\n",
    "\n",
    "def filter_data(data, minimum_length=1):\n",
    "    word_tokens = tokenize(data)\n",
    "    filtered_sentence = []\n",
    "    for w in word_tokens:\n",
    "        if w not in stop_words and len(w) > minimum_length and w not in string.punctuation: \n",
    "            filtered_sentence.append(w)\n",
    "    return list(filtered_sentence)"
   ]
  },
  {
   "cell_type": "markdown",
   "metadata": {},
   "source": [
    "### Calculate number of words"
   ]
  },
  {
   "cell_type": "code",
   "execution_count": 272,
   "metadata": {
    "scrolled": true
   },
   "outputs": [
    {
     "name": "stdout",
     "output_type": "stream",
     "text": [
      "number of all words: 453077\n",
      "number of Michael words: 94048\n",
      "number of Dwight words: 49261\n",
      "number of Jim words: 37515\n",
      "number of Pam words: 28356\n",
      "number of Ryan words: 8314\n",
      "number of Stanley words: 3818\n",
      "number of Kevin words: 9080\n",
      "number of Meredith words: 3262\n",
      "number of Angela words: 9038\n",
      "number of Oscar words: 8730\n",
      "number of Phyllis words: 5203\n",
      "number of Roy words: 1436\n",
      "number of Jan words: 5270\n",
      "number of Toby words: 5325\n",
      "number of Kelly words: 6172\n",
      "number of Andy words: 27608\n",
      "number of Creed words: 2776\n",
      "number of Darryl words: 7418\n",
      "number of Erin words: 7893\n",
      "number of Gabe words: 3477\n",
      "number of Holly words: 3147\n",
      "number of Robert words: 3399\n",
      "number of Nellie words: 4178\n",
      "number of Clark words: 1550\n",
      "number of Pete words: 1156\n"
     ]
    }
   ],
   "source": [
    "print(\"number of all words:\", len(filter_data(transcript)))\n",
    "for person in main_characters:\n",
    "    print(\"number of \" + person + \" words:\", len(filter_data(main_characters[person])))"
   ]
  },
  {
   "cell_type": "markdown",
   "metadata": {},
   "source": [
    "### Calculate number of sentences"
   ]
  },
  {
   "cell_type": "code",
   "execution_count": 273,
   "metadata": {},
   "outputs": [
    {
     "name": "stdout",
     "output_type": "stream",
     "text": [
      "number of all sentences: 101506\n",
      "number of Michael sentences: 25568\n",
      "number of Dwight sentences: 13462\n",
      "number of Jim sentences: 10169\n",
      "number of Pam sentences: 7691\n",
      "number of Ryan sentences: 2089\n",
      "number of Stanley sentences: 998\n",
      "number of Kevin sentences: 2593\n",
      "number of Meredith sentences: 1000\n",
      "number of Angela sentences: 2632\n",
      "number of Oscar sentences: 2250\n",
      "number of Phyllis sentences: 1359\n",
      "number of Roy sentences: 407\n",
      "number of Jan sentences: 1349\n",
      "number of Toby sentences: 1256\n",
      "number of Kelly sentences: 1507\n",
      "number of Andy sentences: 7052\n",
      "number of Creed sentences: 757\n",
      "number of Darryl sentences: 2020\n",
      "number of Erin sentences: 2278\n",
      "number of Gabe sentences: 804\n",
      "number of Holly sentences: 868\n",
      "number of Robert sentences: 805\n",
      "number of Nellie sentences: 1045\n",
      "number of Clark sentences: 384\n",
      "number of Pete sentences: 329\n"
     ]
    }
   ],
   "source": [
    "print(\"number of all sentences:\", len(nltk.sent_tokenize(transcript)))\n",
    "for person in main_characters:\n",
    "    print(\"number of \" + person + \" sentences:\", len(nltk.sent_tokenize(main_characters[person])))"
   ]
  },
  {
   "cell_type": "markdown",
   "metadata": {},
   "source": [
    "First, I had examined the number of words spoken by each person during the series, then I chose the 10 persons with the most words among the main characters."
   ]
  },
  {
   "cell_type": "code",
   "execution_count": 274,
   "metadata": {
    "scrolled": true
   },
   "outputs": [
    {
     "data": {
      "text/plain": [
       "{'Michael': 94048,\n",
       " 'Dwight': 49261,\n",
       " 'Jim': 37515,\n",
       " 'Pam': 28356,\n",
       " 'Andy': 27608,\n",
       " 'Kevin': 9080,\n",
       " 'Angela': 9038,\n",
       " 'Oscar': 8730,\n",
       " 'Ryan': 8314,\n",
       " 'Erin': 7893,\n",
       " 'Darryl': 7418,\n",
       " 'Kelly': 6172,\n",
       " 'Toby': 5325,\n",
       " 'Jan': 5270,\n",
       " 'Phyllis': 5203,\n",
       " 'Nellie': 4178,\n",
       " 'Stanley': 3818,\n",
       " 'Gabe': 3477,\n",
       " 'Robert': 3399,\n",
       " 'Meredith': 3262,\n",
       " 'Holly': 3147,\n",
       " 'Creed': 2776,\n",
       " 'Clark': 1550,\n",
       " 'Roy': 1436,\n",
       " 'Pete': 1156}"
      ]
     },
     "execution_count": 274,
     "metadata": {},
     "output_type": "execute_result"
    }
   ],
   "source": [
    "words_length = {}\n",
    "for person in main_characters:\n",
    "    words_length[person] = len(filter_data(main_characters[person]))\n",
    "sorted_by_length = {k: v for k, v in sorted(words_length.items(), key=lambda item: item[1], reverse=True)}\n",
    "sorted_by_length"
   ]
  },
  {
   "cell_type": "markdown",
   "metadata": {},
   "source": [
    "### Visualization"
   ]
  },
  {
   "cell_type": "markdown",
   "metadata": {},
   "source": [
    "Finally I visualized the chart for the number of words which have been spoken by each top person."
   ]
  },
  {
   "cell_type": "code",
   "execution_count": 275,
   "metadata": {
    "scrolled": true
   },
   "outputs": [
    {
     "data": {
      "image/png": "[encoded data removed]",
      "text/plain": [
       "<Figure size 1440x720 with 1 Axes>"
      ]
     },
     "metadata": {
      "needs_background": "light"
     },
     "output_type": "display_data"
    }
   ],
   "source": [
    "courses = list(sorted_by_length.keys())\n",
    "values = list(sorted_by_length.values())\n",
    "  \n",
    "fig = plt.figure(figsize = (20, 10))\n",
    " \n",
    "plt.bar(courses, values, color ='maroon',\n",
    "        width = 0.4)\n",
    "\n",
    "plt.ylabel(\"No. of words\")\n",
    "plt.title(\"Character involvement\")\n",
    "plt.show()"
   ]
  },
  {
   "cell_type": "code",
   "execution_count": 276,
   "metadata": {},
   "outputs": [],
   "source": [
    "top_ten = {}\n",
    "counter = 1\n",
    "for person in sorted_by_length:\n",
    "    top_ten[person] = main_characters[person]\n",
    "    if counter > 9:\n",
    "        break\n",
    "    counter += 1"
   ]
  },
  {
   "cell_type": "markdown",
   "metadata": {},
   "source": [
    "## Frequency Analysis and Lemmatization"
   ]
  },
  {
   "cell_type": "markdown",
   "metadata": {},
   "source": [
    "After normalization and tokenization, I found the most frequent ones."
   ]
  },
  {
   "cell_type": "code",
   "execution_count": 298,
   "metadata": {},
   "outputs": [],
   "source": [
    "most_common_words = {}\n",
    "\n",
    "for person in top_ten:\n",
    "    filtered_data = filter_data(top_ten[person], 3)\n",
    "    dist = nltk.FreqDist(itertools.chain(w.lower() for w in filtered_data))\n",
    "    most_common_words[person] = dist.most_common(10)"
   ]
  },
  {
   "cell_type": "code",
   "execution_count": 279,
   "metadata": {
    "scrolled": false
   },
   "outputs": [
    {
     "data": {
      "text/html": [
       "<div>\n",
       "<style scoped>\n",
       "    .dataframe tbody tr th:only-of-type {\n",
       "        vertical-align: middle;\n",
       "    }\n",
       "\n",
       "    .dataframe tbody tr th {\n",
       "        vertical-align: top;\n",
       "    }\n",
       "\n",
       "    .dataframe thead th {\n",
       "        text-align: right;\n",
       "    }\n",
       "</style>\n",
       "<table border=\"1\" class=\"dataframe\">\n",
       "  <thead>\n",
       "    <tr style=\"text-align: right;\">\n",
       "      <th></th>\n",
       "      <th>Michael</th>\n",
       "      <th>Dwight</th>\n",
       "      <th>Jim</th>\n",
       "      <th>Pam</th>\n",
       "      <th>Andy</th>\n",
       "      <th>Kevin</th>\n",
       "      <th>Angela</th>\n",
       "      <th>Oscar</th>\n",
       "      <th>Ryan</th>\n",
       "      <th>Erin</th>\n",
       "    </tr>\n",
       "  </thead>\n",
       "  <tbody>\n",
       "    <tr>\n",
       "      <th>0</th>\n",
       "      <td>(know, 1269)</td>\n",
       "      <td>(what, 413)</td>\n",
       "      <td>(know, 523)</td>\n",
       "      <td>(yeah, 348)</td>\n",
       "      <td>(like, 308)</td>\n",
       "      <td>(yeah, 133)</td>\n",
       "      <td>(what, 96)</td>\n",
       "      <td>(what, 87)</td>\n",
       "      <td>(know, 94)</td>\n",
       "      <td>(andy, 113)</td>\n",
       "    </tr>\n",
       "    <tr>\n",
       "      <th>1</th>\n",
       "      <td>(okay, 892)</td>\n",
       "      <td>(know, 390)</td>\n",
       "      <td>(right, 397)</td>\n",
       "      <td>(know, 316)</td>\n",
       "      <td>(know, 277)</td>\n",
       "      <td>(like, 101)</td>\n",
       "      <td>(know, 96)</td>\n",
       "      <td>(know, 86)</td>\n",
       "      <td>(yeah, 90)</td>\n",
       "      <td>(like, 97)</td>\n",
       "    </tr>\n",
       "    <tr>\n",
       "      <th>2</th>\n",
       "      <td>(like, 800)</td>\n",
       "      <td>(okay, 328)</td>\n",
       "      <td>(yeah, 396)</td>\n",
       "      <td>(like, 294)</td>\n",
       "      <td>(yeah, 265)</td>\n",
       "      <td>(michael, 74)</td>\n",
       "      <td>(dwight, 80)</td>\n",
       "      <td>(michael, 85)</td>\n",
       "      <td>(like, 79)</td>\n",
       "      <td>(know, 74)</td>\n",
       "    </tr>\n",
       "    <tr>\n",
       "      <th>3</th>\n",
       "      <td>(right, 750)</td>\n",
       "      <td>(like, 314)</td>\n",
       "      <td>(okay, 366)</td>\n",
       "      <td>(michael, 278)</td>\n",
       "      <td>(what, 219)</td>\n",
       "      <td>(know, 74)</td>\n",
       "      <td>(like, 72)</td>\n",
       "      <td>(like, 67)</td>\n",
       "      <td>(what, 63)</td>\n",
       "      <td>(really, 71)</td>\n",
       "    </tr>\n",
       "    <tr>\n",
       "      <th>4</th>\n",
       "      <td>(well, 735)</td>\n",
       "      <td>(michael, 312)</td>\n",
       "      <td>(what, 322)</td>\n",
       "      <td>(okay, 272)</td>\n",
       "      <td>(right, 208)</td>\n",
       "      <td>(think, 72)</td>\n",
       "      <td>(think, 61)</td>\n",
       "      <td>(that, 66)</td>\n",
       "      <td>(want, 58)</td>\n",
       "      <td>(yeah, 70)</td>\n",
       "    </tr>\n",
       "    <tr>\n",
       "      <th>5</th>\n",
       "      <td>(that, 693)</td>\n",
       "      <td>(that, 271)</td>\n",
       "      <td>(think, 320)</td>\n",
       "      <td>(really, 242)</td>\n",
       "      <td>(well, 174)</td>\n",
       "      <td>(what, 71)</td>\n",
       "      <td>(would, 61)</td>\n",
       "      <td>(think, 63)</td>\n",
       "      <td>(that, 57)</td>\n",
       "      <td>(think, 56)</td>\n",
       "    </tr>\n",
       "    <tr>\n",
       "      <th>6</th>\n",
       "      <td>(good, 667)</td>\n",
       "      <td>(right, 259)</td>\n",
       "      <td>(really, 315)</td>\n",
       "      <td>(what, 231)</td>\n",
       "      <td>(that, 171)</td>\n",
       "      <td>(that, 61)</td>\n",
       "      <td>(well, 57)</td>\n",
       "      <td>(angela, 50)</td>\n",
       "      <td>(really, 55)</td>\n",
       "      <td>(sorry, 54)</td>\n",
       "    </tr>\n",
       "    <tr>\n",
       "      <th>7</th>\n",
       "      <td>(going, 652)</td>\n",
       "      <td>(good, 239)</td>\n",
       "      <td>(dwight, 287)</td>\n",
       "      <td>(think, 218)</td>\n",
       "      <td>(really, 149)</td>\n",
       "      <td>(well, 59)</td>\n",
       "      <td>(want, 53)</td>\n",
       "      <td>(yeah, 49)</td>\n",
       "      <td>(michael, 55)</td>\n",
       "      <td>(okay, 54)</td>\n",
       "    </tr>\n",
       "    <tr>\n",
       "      <th>8</th>\n",
       "      <td>(what, 648)</td>\n",
       "      <td>(yeah, 227)</td>\n",
       "      <td>(that, 270)</td>\n",
       "      <td>(well, 160)</td>\n",
       "      <td>(think, 142)</td>\n",
       "      <td>(really, 53)</td>\n",
       "      <td>(kevin, 49)</td>\n",
       "      <td>(right, 47)</td>\n",
       "      <td>(kelly, 51)</td>\n",
       "      <td>(what, 51)</td>\n",
       "    </tr>\n",
       "    <tr>\n",
       "      <th>9</th>\n",
       "      <td>(yeah, 593)</td>\n",
       "      <td>(come, 222)</td>\n",
       "      <td>(well, 256)</td>\n",
       "      <td>(dwight, 152)</td>\n",
       "      <td>(guys, 124)</td>\n",
       "      <td>(would, 52)</td>\n",
       "      <td>(that, 44)</td>\n",
       "      <td>(well, 44)</td>\n",
       "      <td>(okay, 50)</td>\n",
       "      <td>(that, 41)</td>\n",
       "    </tr>\n",
       "  </tbody>\n",
       "</table>\n",
       "</div>"
      ],
      "text/plain": [
       "        Michael          Dwight            Jim             Pam           Andy  \\\n",
       "0  (know, 1269)     (what, 413)    (know, 523)     (yeah, 348)    (like, 308)   \n",
       "1   (okay, 892)     (know, 390)   (right, 397)     (know, 316)    (know, 277)   \n",
       "2   (like, 800)     (okay, 328)    (yeah, 396)     (like, 294)    (yeah, 265)   \n",
       "3  (right, 750)     (like, 314)    (okay, 366)  (michael, 278)    (what, 219)   \n",
       "4   (well, 735)  (michael, 312)    (what, 322)     (okay, 272)   (right, 208)   \n",
       "5   (that, 693)     (that, 271)   (think, 320)   (really, 242)    (well, 174)   \n",
       "6   (good, 667)    (right, 259)  (really, 315)     (what, 231)    (that, 171)   \n",
       "7  (going, 652)     (good, 239)  (dwight, 287)    (think, 218)  (really, 149)   \n",
       "8   (what, 648)     (yeah, 227)    (that, 270)     (well, 160)   (think, 142)   \n",
       "9   (yeah, 593)     (come, 222)    (well, 256)   (dwight, 152)    (guys, 124)   \n",
       "\n",
       "           Kevin        Angela          Oscar           Ryan          Erin  \n",
       "0    (yeah, 133)    (what, 96)     (what, 87)     (know, 94)   (andy, 113)  \n",
       "1    (like, 101)    (know, 96)     (know, 86)     (yeah, 90)    (like, 97)  \n",
       "2  (michael, 74)  (dwight, 80)  (michael, 85)     (like, 79)    (know, 74)  \n",
       "3     (know, 74)    (like, 72)     (like, 67)     (what, 63)  (really, 71)  \n",
       "4    (think, 72)   (think, 61)     (that, 66)     (want, 58)    (yeah, 70)  \n",
       "5     (what, 71)   (would, 61)    (think, 63)     (that, 57)   (think, 56)  \n",
       "6     (that, 61)    (well, 57)   (angela, 50)   (really, 55)   (sorry, 54)  \n",
       "7     (well, 59)    (want, 53)     (yeah, 49)  (michael, 55)    (okay, 54)  \n",
       "8   (really, 53)   (kevin, 49)    (right, 47)    (kelly, 51)    (what, 51)  \n",
       "9    (would, 52)    (that, 44)     (well, 44)     (okay, 50)    (that, 41)  "
      ]
     },
     "execution_count": 279,
     "metadata": {},
     "output_type": "execute_result"
    }
   ],
   "source": [
    "df = pd.DataFrame(dict([(k,pd.Series(v)) for k,v in most_common_words.items() ]))\n",
    "df"
   ]
  },
  {
   "cell_type": "markdown",
   "metadata": {},
   "source": [
    "We see that most of the frequent words are the same adjectives. So I had lemmatized the words, then I got the most frequent **nouns** for each person."
   ]
  },
  {
   "cell_type": "code",
   "execution_count": 291,
   "metadata": {},
   "outputs": [],
   "source": [
    "most_common_NN_words = {}\n",
    "\n",
    "lemma = nltk.WordNetLemmatizer()\n",
    "lemmatized_words = {}\n",
    "\n",
    "for person in top_ten:\n",
    "    filtered_data = filter_data(top_ten[person], 3)\n",
    "    lemmatized_words[person] = [lemma.lemmatize(t) for t in filtered_data]\n",
    "    lemmatized_tokens = []\n",
    "    for tag in nltk.pos_tag(lemmatized_words[person]):\n",
    "        if tag[1].startswith('NN'):\n",
    "            lemmatized_tokens.append(tag[0])\n",
    "            \n",
    "\n",
    "    dist = nltk.FreqDist(itertools.chain(token.lower() for token in lemmatized_tokens))\n",
    "    most_common_NN_words[person] = dist.most_common(10)"
   ]
  },
  {
   "cell_type": "code",
   "execution_count": 292,
   "metadata": {
    "scrolled": true
   },
   "outputs": [
    {
     "data": {
      "text/html": [
       "<div>\n",
       "<style scoped>\n",
       "    .dataframe tbody tr th:only-of-type {\n",
       "        vertical-align: middle;\n",
       "    }\n",
       "\n",
       "    .dataframe tbody tr th {\n",
       "        vertical-align: top;\n",
       "    }\n",
       "\n",
       "    .dataframe thead th {\n",
       "        text-align: right;\n",
       "    }\n",
       "</style>\n",
       "<table border=\"1\" class=\"dataframe\">\n",
       "  <thead>\n",
       "    <tr style=\"text-align: right;\">\n",
       "      <th></th>\n",
       "      <th>Michael</th>\n",
       "      <th>Dwight</th>\n",
       "      <th>Jim</th>\n",
       "      <th>Pam</th>\n",
       "      <th>Andy</th>\n",
       "      <th>Kevin</th>\n",
       "      <th>Angela</th>\n",
       "      <th>Oscar</th>\n",
       "      <th>Ryan</th>\n",
       "      <th>Erin</th>\n",
       "    </tr>\n",
       "  </thead>\n",
       "  <tbody>\n",
       "    <tr>\n",
       "      <th>0</th>\n",
       "      <td>(okay, 750)</td>\n",
       "      <td>(michael, 312)</td>\n",
       "      <td>(yeah, 327)</td>\n",
       "      <td>(yeah, 310)</td>\n",
       "      <td>(yeah, 237)</td>\n",
       "      <td>(yeah, 118)</td>\n",
       "      <td>(dwight, 78)</td>\n",
       "      <td>(michael, 85)</td>\n",
       "      <td>(yeah, 81)</td>\n",
       "      <td>(andy, 113)</td>\n",
       "    </tr>\n",
       "    <tr>\n",
       "      <th>1</th>\n",
       "      <td>(yeah, 509)</td>\n",
       "      <td>(okay, 281)</td>\n",
       "      <td>(okay, 317)</td>\n",
       "      <td>(michael, 278)</td>\n",
       "      <td>(well, 122)</td>\n",
       "      <td>(michael, 74)</td>\n",
       "      <td>(kevin, 48)</td>\n",
       "      <td>(angela, 50)</td>\n",
       "      <td>(michael, 55)</td>\n",
       "      <td>(yeah, 62)</td>\n",
       "    </tr>\n",
       "    <tr>\n",
       "      <th>2</th>\n",
       "      <td>(well, 489)</td>\n",
       "      <td>(yeah, 205)</td>\n",
       "      <td>(dwight, 285)</td>\n",
       "      <td>(okay, 230)</td>\n",
       "      <td>(time, 110)</td>\n",
       "      <td>(oscar, 43)</td>\n",
       "      <td>(well, 45)</td>\n",
       "      <td>(yeah, 42)</td>\n",
       "      <td>(kelly, 49)</td>\n",
       "      <td>(okay, 49)</td>\n",
       "    </tr>\n",
       "    <tr>\n",
       "      <th>3</th>\n",
       "      <td>(dwight, 389)</td>\n",
       "      <td>(time, 173)</td>\n",
       "      <td>(michael, 194)</td>\n",
       "      <td>(dwight, 151)</td>\n",
       "      <td>(thing, 106)</td>\n",
       "      <td>(time, 41)</td>\n",
       "      <td>(party, 38)</td>\n",
       "      <td>(kevin, 42)</td>\n",
       "      <td>(okay, 44)</td>\n",
       "      <td>(sorry, 39)</td>\n",
       "    </tr>\n",
       "    <tr>\n",
       "      <th>4</th>\n",
       "      <td>(people, 346)</td>\n",
       "      <td>(thing, 152)</td>\n",
       "      <td>(well, 174)</td>\n",
       "      <td>(well, 110)</td>\n",
       "      <td>(okay, 97)</td>\n",
       "      <td>(okay, 34)</td>\n",
       "      <td>(thank, 38)</td>\n",
       "      <td>(okay, 37)</td>\n",
       "      <td>(thing, 36)</td>\n",
       "      <td>(michael, 37)</td>\n",
       "    </tr>\n",
       "    <tr>\n",
       "      <th>5</th>\n",
       "      <td>(thing, 337)</td>\n",
       "      <td>(come, 136)</td>\n",
       "      <td>(thing, 132)</td>\n",
       "      <td>(time, 107)</td>\n",
       "      <td>(guy, 84)</td>\n",
       "      <td>(angela, 34)</td>\n",
       "      <td>(okay, 36)</td>\n",
       "      <td>(thing, 35)</td>\n",
       "      <td>(something, 28)</td>\n",
       "      <td>(well, 30)</td>\n",
       "    </tr>\n",
       "    <tr>\n",
       "      <th>6</th>\n",
       "      <td>(time, 324)</td>\n",
       "      <td>(well, 135)</td>\n",
       "      <td>(time, 132)</td>\n",
       "      <td>(thing, 91)</td>\n",
       "      <td>(erin, 80)</td>\n",
       "      <td>(well, 31)</td>\n",
       "      <td>(michael, 33)</td>\n",
       "      <td>(well, 31)</td>\n",
       "      <td>(time, 28)</td>\n",
       "      <td>(time, 28)</td>\n",
       "    </tr>\n",
       "    <tr>\n",
       "      <th>7</th>\n",
       "      <td>(everybody, 252)</td>\n",
       "      <td>(people, 122)</td>\n",
       "      <td>(right, 124)</td>\n",
       "      <td>(something, 84)</td>\n",
       "      <td>(dwight, 79)</td>\n",
       "      <td>(thing, 27)</td>\n",
       "      <td>(yeah, 31)</td>\n",
       "      <td>(andy, 31)</td>\n",
       "      <td>(look, 26)</td>\n",
       "      <td>(gabe, 26)</td>\n",
       "    </tr>\n",
       "    <tr>\n",
       "      <th>8</th>\n",
       "      <td>(something, 237)</td>\n",
       "      <td>(dwight, 108)</td>\n",
       "      <td>(work, 102)</td>\n",
       "      <td>(thank, 82)</td>\n",
       "      <td>(tuna, 68)</td>\n",
       "      <td>(people, 26)</td>\n",
       "      <td>(oscar, 31)</td>\n",
       "      <td>(time, 30)</td>\n",
       "      <td>(well, 25)</td>\n",
       "      <td>(dwight, 25)</td>\n",
       "    </tr>\n",
       "    <tr>\n",
       "      <th>9</th>\n",
       "      <td>(right, 215)</td>\n",
       "      <td>(thank, 106)</td>\n",
       "      <td>(alright, 100)</td>\n",
       "      <td>(people, 67)</td>\n",
       "      <td>(thank, 65)</td>\n",
       "      <td>(wait, 25)</td>\n",
       "      <td>(andy, 31)</td>\n",
       "      <td>(year, 27)</td>\n",
       "      <td>(people, 25)</td>\n",
       "      <td>(guy, 23)</td>\n",
       "    </tr>\n",
       "  </tbody>\n",
       "</table>\n",
       "</div>"
      ],
      "text/plain": [
       "            Michael          Dwight             Jim              Pam  \\\n",
       "0       (okay, 750)  (michael, 312)     (yeah, 327)      (yeah, 310)   \n",
       "1       (yeah, 509)     (okay, 281)     (okay, 317)   (michael, 278)   \n",
       "2       (well, 489)     (yeah, 205)   (dwight, 285)      (okay, 230)   \n",
       "3     (dwight, 389)     (time, 173)  (michael, 194)    (dwight, 151)   \n",
       "4     (people, 346)    (thing, 152)     (well, 174)      (well, 110)   \n",
       "5      (thing, 337)     (come, 136)    (thing, 132)      (time, 107)   \n",
       "6       (time, 324)     (well, 135)     (time, 132)      (thing, 91)   \n",
       "7  (everybody, 252)   (people, 122)    (right, 124)  (something, 84)   \n",
       "8  (something, 237)   (dwight, 108)     (work, 102)      (thank, 82)   \n",
       "9      (right, 215)    (thank, 106)  (alright, 100)     (people, 67)   \n",
       "\n",
       "           Andy          Kevin         Angela          Oscar             Ryan  \\\n",
       "0   (yeah, 237)    (yeah, 118)   (dwight, 78)  (michael, 85)       (yeah, 81)   \n",
       "1   (well, 122)  (michael, 74)    (kevin, 48)   (angela, 50)    (michael, 55)   \n",
       "2   (time, 110)    (oscar, 43)     (well, 45)     (yeah, 42)      (kelly, 49)   \n",
       "3  (thing, 106)     (time, 41)    (party, 38)    (kevin, 42)       (okay, 44)   \n",
       "4    (okay, 97)     (okay, 34)    (thank, 38)     (okay, 37)      (thing, 36)   \n",
       "5     (guy, 84)   (angela, 34)     (okay, 36)    (thing, 35)  (something, 28)   \n",
       "6    (erin, 80)     (well, 31)  (michael, 33)     (well, 31)       (time, 28)   \n",
       "7  (dwight, 79)    (thing, 27)     (yeah, 31)     (andy, 31)       (look, 26)   \n",
       "8    (tuna, 68)   (people, 26)    (oscar, 31)     (time, 30)       (well, 25)   \n",
       "9   (thank, 65)     (wait, 25)     (andy, 31)     (year, 27)     (people, 25)   \n",
       "\n",
       "            Erin  \n",
       "0    (andy, 113)  \n",
       "1     (yeah, 62)  \n",
       "2     (okay, 49)  \n",
       "3    (sorry, 39)  \n",
       "4  (michael, 37)  \n",
       "5     (well, 30)  \n",
       "6     (time, 28)  \n",
       "7     (gabe, 26)  \n",
       "8   (dwight, 25)  \n",
       "9      (guy, 23)  "
      ]
     },
     "execution_count": 292,
     "metadata": {},
     "output_type": "execute_result"
    }
   ],
   "source": [
    "df = pd.DataFrame(dict([(k,pd.Series(v)) for k,v in most_common_NN_words.items() ]))\n",
    "df"
   ]
  },
  {
   "cell_type": "markdown",
   "metadata": {},
   "source": [
    "## Keywords"
   ]
  },
  {
   "cell_type": "markdown",
   "metadata": {},
   "source": [
    "In order to get more accurate and important information, I find the keywords for each character."
   ]
  },
  {
   "cell_type": "markdown",
   "metadata": {},
   "source": [
    "### Install and import required libraries"
   ]
  },
  {
   "cell_type": "code",
   "execution_count": 302,
   "metadata": {
    "scrolled": true
   },
   "outputs": [
    {
     "name": "stdout",
     "output_type": "stream",
     "text": [
      "Requirement already satisfied: yake in /Users/mohammadreza/opt/anaconda3/lib/python3.8/site-packages (0.4.8)\r\n",
      "Requirement already satisfied: networkx in /Users/mohammadreza/opt/anaconda3/lib/python3.8/site-packages (from yake) (2.5)\r\n",
      "Requirement already satisfied: tabulate in /Users/mohammadreza/opt/anaconda3/lib/python3.8/site-packages (from yake) (0.8.9)\r\n",
      "Requirement already satisfied: numpy in /Users/mohammadreza/opt/anaconda3/lib/python3.8/site-packages (from yake) (1.19.5)\r\n",
      "Requirement already satisfied: jellyfish in /Users/mohammadreza/opt/anaconda3/lib/python3.8/site-packages (from yake) (0.9.0)\r\n",
      "Requirement already satisfied: segtok in /Users/mohammadreza/opt/anaconda3/lib/python3.8/site-packages (from yake) (1.5.11)\r\n",
      "Requirement already satisfied: click>=6.0 in /Users/mohammadreza/opt/anaconda3/lib/python3.8/site-packages (from yake) (7.1.2)\r\n",
      "Requirement already satisfied: decorator>=4.3.0 in /Users/mohammadreza/opt/anaconda3/lib/python3.8/site-packages (from networkx->yake) (5.0.6)\r\n",
      "Requirement already satisfied: regex in /Users/mohammadreza/opt/anaconda3/lib/python3.8/site-packages (from segtok->yake) (2021.4.4)\r\n"
     ]
    }
   ],
   "source": [
    "!pip install yake"
   ]
  },
  {
   "cell_type": "code",
   "execution_count": 305,
   "metadata": {},
   "outputs": [],
   "source": [
    "import yake"
   ]
  },
  {
   "cell_type": "markdown",
   "metadata": {},
   "source": [
    "### Extract keywords"
   ]
  },
  {
   "cell_type": "markdown",
   "metadata": {},
   "source": [
    "I used yake library for this task and found 10 keywords for each character."
   ]
  },
  {
   "cell_type": "code",
   "execution_count": 342,
   "metadata": {
    "scrolled": true
   },
   "outputs": [],
   "source": [
    "keyword_extractor = yake.KeywordExtractor(lan=\"en\", n=3, dedupLim=0.9, top=10, features=None)\n",
    "\n",
    "keywords = {}\n",
    "\n",
    "for person in top_ten:\n",
    "    temp = keyword_extractor.extract_keywords(top_ten[person])\n",
    "    rounded_element = []\n",
    "    for element in temp:\n",
    "        rounded_element.append((element[0], round(element[1], 7)))\n",
    "    keywords[person] = rounded_element"
   ]
  },
  {
   "cell_type": "code",
   "execution_count": 343,
   "metadata": {},
   "outputs": [
    {
     "data": {
      "text/html": [
       "<div>\n",
       "<style scoped>\n",
       "    .dataframe tbody tr th:only-of-type {\n",
       "        vertical-align: middle;\n",
       "    }\n",
       "\n",
       "    .dataframe tbody tr th {\n",
       "        vertical-align: top;\n",
       "    }\n",
       "\n",
       "    .dataframe thead th {\n",
       "        text-align: right;\n",
       "    }\n",
       "</style>\n",
       "<table border=\"1\" class=\"dataframe\">\n",
       "  <thead>\n",
       "    <tr style=\"text-align: right;\">\n",
       "      <th></th>\n",
       "      <th>Michael</th>\n",
       "      <th>Dwight</th>\n",
       "      <th>Jim</th>\n",
       "      <th>Pam</th>\n",
       "      <th>Andy</th>\n",
       "      <th>Kevin</th>\n",
       "      <th>Angela</th>\n",
       "      <th>Oscar</th>\n",
       "      <th>Ryan</th>\n",
       "      <th>Erin</th>\n",
       "    </tr>\n",
       "  </thead>\n",
       "  <tbody>\n",
       "    <tr>\n",
       "      <th>0</th>\n",
       "      <td>(Michael Scott, 8e-05)</td>\n",
       "      <td>(Michael Michael Michael, 0.0001258)</td>\n",
       "      <td>(Dwight, 0.0001885)</td>\n",
       "      <td>(Michael, 0.0002062)</td>\n",
       "      <td>(Yeah, 0.0004004)</td>\n",
       "      <td>(Yeah, 0.0011243)</td>\n",
       "      <td>(Dwight, 0.0014413)</td>\n",
       "      <td>(Michael, 0.0013157)</td>\n",
       "      <td>(Yeah, 0.0020314)</td>\n",
       "      <td>(Andy, 0.0008481)</td>\n",
       "    </tr>\n",
       "    <tr>\n",
       "      <th>1</th>\n",
       "      <td>(Dwight, 0.0001236)</td>\n",
       "      <td>(Jim, 0.0001495)</td>\n",
       "      <td>(yeah, 0.0002737)</td>\n",
       "      <td>(yeah, 0.000321)</td>\n",
       "      <td>(guys, 0.0010742)</td>\n",
       "      <td>(Michael, 0.0019209)</td>\n",
       "      <td>(Kevin, 0.0032892)</td>\n",
       "      <td>(Angela, 0.0033308)</td>\n",
       "      <td>(Michael, 0.0025033)</td>\n",
       "      <td>(Yeah, 0.0027648)</td>\n",
       "    </tr>\n",
       "    <tr>\n",
       "      <th>2</th>\n",
       "      <td>(good, 0.0001349)</td>\n",
       "      <td>(Michael, 0.0001597)</td>\n",
       "      <td>(Pam, 0.000327)</td>\n",
       "      <td>(Jim, 0.0003291)</td>\n",
       "      <td>(Hey, 0.0013332)</td>\n",
       "      <td>(Jim, 0.0035196)</td>\n",
       "      <td>(God, 0.0045375)</td>\n",
       "      <td>(Kevin, 0.0039852)</td>\n",
       "      <td>(Kelly, 0.0028158)</td>\n",
       "      <td>(Andy coming back, 0.0045142)</td>\n",
       "    </tr>\n",
       "    <tr>\n",
       "      <th>3</th>\n",
       "      <td>(Pam, 0.000154)</td>\n",
       "      <td>(Dwight Schrute, 0.0001875)</td>\n",
       "      <td>(Michael, 0.0003809)</td>\n",
       "      <td>(Dwight, 0.0005445)</td>\n",
       "      <td>(Andy Bernard, 0.0013458)</td>\n",
       "      <td>(Pam, 0.0036887)</td>\n",
       "      <td>(Andy, 0.006008)</td>\n",
       "      <td>(Yeah, 0.0047732)</td>\n",
       "      <td>(Hey, 0.0031211)</td>\n",
       "      <td>(Hey, 0.0046472)</td>\n",
       "    </tr>\n",
       "    <tr>\n",
       "      <th>4</th>\n",
       "      <td>(Yeah, 0.0001704)</td>\n",
       "      <td>(Good, 0.0005529)</td>\n",
       "      <td>(Hey, 0.0004206)</td>\n",
       "      <td>(Hey, 0.0005836)</td>\n",
       "      <td>(gonna, 0.0013977)</td>\n",
       "      <td>(Oscar, 0.0038527)</td>\n",
       "      <td>(Michael, 0.0061525)</td>\n",
       "      <td>(hey, 0.0053164)</td>\n",
       "      <td>(guy, 0.0070399)</td>\n",
       "      <td>(Michael, 0.0047698)</td>\n",
       "    </tr>\n",
       "    <tr>\n",
       "      <th>5</th>\n",
       "      <td>(Michael Scott Paper, 0.0001756)</td>\n",
       "      <td>(yeah, 0.0006215)</td>\n",
       "      <td>(good, 0.0006288)</td>\n",
       "      <td>(Hey Michael, 0.001067)</td>\n",
       "      <td>(Erin, 0.001416)</td>\n",
       "      <td>(Hey, 0.0052078)</td>\n",
       "      <td>(Pam, 0.0068299)</td>\n",
       "      <td>(good, 0.0062613)</td>\n",
       "      <td>(good, 0.0083462)</td>\n",
       "      <td>(Pam, 0.0075371)</td>\n",
       "    </tr>\n",
       "    <tr>\n",
       "      <th>6</th>\n",
       "      <td>(Hey, 0.0001909)</td>\n",
       "      <td>(hey, 0.0006552)</td>\n",
       "      <td>(gonna, 0.0008781)</td>\n",
       "      <td>(God, 0.0012587)</td>\n",
       "      <td>(Good, 0.0015337)</td>\n",
       "      <td>(Angela, 0.0058053)</td>\n",
       "      <td>(party, 0.0069953)</td>\n",
       "      <td>(Andy, 0.0070959)</td>\n",
       "      <td>(guys, 0.0094885)</td>\n",
       "      <td>(guys, 0.0078273)</td>\n",
       "    </tr>\n",
       "    <tr>\n",
       "      <th>7</th>\n",
       "      <td>(Dunder Mifflin, 0.0002366)</td>\n",
       "      <td>(Assistant Regional Manager, 0.000785)</td>\n",
       "      <td>(God, 0.0015312)</td>\n",
       "      <td>(good, 0.001366)</td>\n",
       "      <td>(Dwight, 0.001654)</td>\n",
       "      <td>(guys, 0.0061386)</td>\n",
       "      <td>(Oscar, 0.0070934)</td>\n",
       "      <td>(gay, 0.0078313)</td>\n",
       "      <td>(Jim, 0.0102189)</td>\n",
       "      <td>(Gabe, 0.0097243)</td>\n",
       "    </tr>\n",
       "    <tr>\n",
       "      <th>8</th>\n",
       "      <td>(God, 0.0002592)</td>\n",
       "      <td>(Jim Halpert, 0.0008453)</td>\n",
       "      <td>(great, 0.0015543)</td>\n",
       "      <td>(Michael Scott, 0.0015872)</td>\n",
       "      <td>(Tuna, 0.0017982)</td>\n",
       "      <td>(gonna, 0.0095142)</td>\n",
       "      <td>(Senator, 0.0079595)</td>\n",
       "      <td>(guys, 0.0081902)</td>\n",
       "      <td>(Kelly Kapoor, 0.0102209)</td>\n",
       "      <td>(Andy coming, 0.0098509)</td>\n",
       "    </tr>\n",
       "    <tr>\n",
       "      <th>9</th>\n",
       "      <td>(Jim, 0.000286)</td>\n",
       "      <td>(Schrute, 0.0008542)</td>\n",
       "      <td>(back, 0.0017193)</td>\n",
       "      <td>(Dunder Mifflin, 0.0018849)</td>\n",
       "      <td>(guy, 0.0018876)</td>\n",
       "      <td>(Kevin, 0.0096508)</td>\n",
       "      <td>(yeah, 0.0080209)</td>\n",
       "      <td>(Dwight, 0.0113642)</td>\n",
       "      <td>(man, 0.0102548)</td>\n",
       "      <td>(Dwight, 0.0108828)</td>\n",
       "    </tr>\n",
       "  </tbody>\n",
       "</table>\n",
       "</div>"
      ],
      "text/plain": [
       "                            Michael                                  Dwight  \\\n",
       "0            (Michael Scott, 8e-05)    (Michael Michael Michael, 0.0001258)   \n",
       "1               (Dwight, 0.0001236)                        (Jim, 0.0001495)   \n",
       "2                 (good, 0.0001349)                    (Michael, 0.0001597)   \n",
       "3                   (Pam, 0.000154)             (Dwight Schrute, 0.0001875)   \n",
       "4                 (Yeah, 0.0001704)                       (Good, 0.0005529)   \n",
       "5  (Michael Scott Paper, 0.0001756)                       (yeah, 0.0006215)   \n",
       "6                  (Hey, 0.0001909)                        (hey, 0.0006552)   \n",
       "7       (Dunder Mifflin, 0.0002366)  (Assistant Regional Manager, 0.000785)   \n",
       "8                  (God, 0.0002592)                (Jim Halpert, 0.0008453)   \n",
       "9                   (Jim, 0.000286)                    (Schrute, 0.0008542)   \n",
       "\n",
       "                    Jim                          Pam  \\\n",
       "0   (Dwight, 0.0001885)         (Michael, 0.0002062)   \n",
       "1     (yeah, 0.0002737)             (yeah, 0.000321)   \n",
       "2       (Pam, 0.000327)             (Jim, 0.0003291)   \n",
       "3  (Michael, 0.0003809)          (Dwight, 0.0005445)   \n",
       "4      (Hey, 0.0004206)             (Hey, 0.0005836)   \n",
       "5     (good, 0.0006288)      (Hey Michael, 0.001067)   \n",
       "6    (gonna, 0.0008781)             (God, 0.0012587)   \n",
       "7      (God, 0.0015312)             (good, 0.001366)   \n",
       "8    (great, 0.0015543)   (Michael Scott, 0.0015872)   \n",
       "9     (back, 0.0017193)  (Dunder Mifflin, 0.0018849)   \n",
       "\n",
       "                        Andy                 Kevin                Angela  \\\n",
       "0          (Yeah, 0.0004004)     (Yeah, 0.0011243)   (Dwight, 0.0014413)   \n",
       "1          (guys, 0.0010742)  (Michael, 0.0019209)    (Kevin, 0.0032892)   \n",
       "2           (Hey, 0.0013332)      (Jim, 0.0035196)      (God, 0.0045375)   \n",
       "3  (Andy Bernard, 0.0013458)      (Pam, 0.0036887)      (Andy, 0.006008)   \n",
       "4         (gonna, 0.0013977)    (Oscar, 0.0038527)  (Michael, 0.0061525)   \n",
       "5           (Erin, 0.001416)      (Hey, 0.0052078)      (Pam, 0.0068299)   \n",
       "6          (Good, 0.0015337)   (Angela, 0.0058053)    (party, 0.0069953)   \n",
       "7         (Dwight, 0.001654)     (guys, 0.0061386)    (Oscar, 0.0070934)   \n",
       "8          (Tuna, 0.0017982)    (gonna, 0.0095142)  (Senator, 0.0079595)   \n",
       "9           (guy, 0.0018876)    (Kevin, 0.0096508)     (yeah, 0.0080209)   \n",
       "\n",
       "                  Oscar                       Ryan  \\\n",
       "0  (Michael, 0.0013157)          (Yeah, 0.0020314)   \n",
       "1   (Angela, 0.0033308)       (Michael, 0.0025033)   \n",
       "2    (Kevin, 0.0039852)         (Kelly, 0.0028158)   \n",
       "3     (Yeah, 0.0047732)           (Hey, 0.0031211)   \n",
       "4      (hey, 0.0053164)           (guy, 0.0070399)   \n",
       "5     (good, 0.0062613)          (good, 0.0083462)   \n",
       "6     (Andy, 0.0070959)          (guys, 0.0094885)   \n",
       "7      (gay, 0.0078313)           (Jim, 0.0102189)   \n",
       "8     (guys, 0.0081902)  (Kelly Kapoor, 0.0102209)   \n",
       "9   (Dwight, 0.0113642)           (man, 0.0102548)   \n",
       "\n",
       "                            Erin  \n",
       "0              (Andy, 0.0008481)  \n",
       "1              (Yeah, 0.0027648)  \n",
       "2  (Andy coming back, 0.0045142)  \n",
       "3               (Hey, 0.0046472)  \n",
       "4           (Michael, 0.0047698)  \n",
       "5               (Pam, 0.0075371)  \n",
       "6              (guys, 0.0078273)  \n",
       "7              (Gabe, 0.0097243)  \n",
       "8       (Andy coming, 0.0098509)  \n",
       "9            (Dwight, 0.0108828)  "
      ]
     },
     "execution_count": 343,
     "metadata": {},
     "output_type": "execute_result"
    }
   ],
   "source": [
    "df = pd.DataFrame(keywords)\n",
    "df"
   ]
  },
  {
   "cell_type": "markdown",
   "metadata": {},
   "source": [
    "## Sentiment Alalysis:\n",
    "I used SentimentIntensityAnalyzer to determine the positivity and negativity and also neutrality of each person."
   ]
  },
  {
   "cell_type": "code",
   "execution_count": 293,
   "metadata": {},
   "outputs": [],
   "source": [
    "speeches = {}\n",
    "lemmatized_words['Ryan']\n",
    "for person in lemmatized_words:\n",
    "    words = \"\"\n",
    "    for word in lemmatized_words[person]:\n",
    "        words += word.lower() + ' '\n",
    "    speeches[person] = words"
   ]
  },
  {
   "cell_type": "code",
   "execution_count": 294,
   "metadata": {},
   "outputs": [],
   "source": [
    "from nltk.sentiment import SentimentIntensityAnalyzer\n",
    "sia = SentimentIntensityAnalyzer()\n",
    "\n",
    "sentiments = {}\n",
    "for person, speech in speeches.items():\n",
    "    status = sia.polarity_scores(speech)\n",
    "    sentiments[person] = [status['pos'], status['neu'], status['neg']]"
   ]
  },
  {
   "cell_type": "code",
   "execution_count": 295,
   "metadata": {
    "scrolled": false
   },
   "outputs": [
    {
     "data": {
      "text/html": [
       "<div>\n",
       "<style scoped>\n",
       "    .dataframe tbody tr th:only-of-type {\n",
       "        vertical-align: middle;\n",
       "    }\n",
       "\n",
       "    .dataframe tbody tr th {\n",
       "        vertical-align: top;\n",
       "    }\n",
       "\n",
       "    .dataframe thead th {\n",
       "        text-align: right;\n",
       "    }\n",
       "</style>\n",
       "<table border=\"1\" class=\"dataframe\">\n",
       "  <thead>\n",
       "    <tr style=\"text-align: right;\">\n",
       "      <th></th>\n",
       "      <th>Michael</th>\n",
       "      <th>Dwight</th>\n",
       "      <th>Jim</th>\n",
       "      <th>Pam</th>\n",
       "      <th>Andy</th>\n",
       "      <th>Kevin</th>\n",
       "      <th>Angela</th>\n",
       "      <th>Oscar</th>\n",
       "      <th>Ryan</th>\n",
       "      <th>Erin</th>\n",
       "    </tr>\n",
       "  </thead>\n",
       "  <tbody>\n",
       "    <tr>\n",
       "      <th>positive</th>\n",
       "      <td>0.295</td>\n",
       "      <td>0.263</td>\n",
       "      <td>0.319</td>\n",
       "      <td>0.344</td>\n",
       "      <td>0.274</td>\n",
       "      <td>0.312</td>\n",
       "      <td>0.262</td>\n",
       "      <td>0.241</td>\n",
       "      <td>0.303</td>\n",
       "      <td>0.315</td>\n",
       "    </tr>\n",
       "    <tr>\n",
       "      <th>neutral</th>\n",
       "      <td>0.581</td>\n",
       "      <td>0.623</td>\n",
       "      <td>0.589</td>\n",
       "      <td>0.566</td>\n",
       "      <td>0.632</td>\n",
       "      <td>0.582</td>\n",
       "      <td>0.605</td>\n",
       "      <td>0.655</td>\n",
       "      <td>0.618</td>\n",
       "      <td>0.578</td>\n",
       "    </tr>\n",
       "    <tr>\n",
       "      <th>negative</th>\n",
       "      <td>0.124</td>\n",
       "      <td>0.115</td>\n",
       "      <td>0.092</td>\n",
       "      <td>0.090</td>\n",
       "      <td>0.094</td>\n",
       "      <td>0.106</td>\n",
       "      <td>0.133</td>\n",
       "      <td>0.104</td>\n",
       "      <td>0.079</td>\n",
       "      <td>0.107</td>\n",
       "    </tr>\n",
       "  </tbody>\n",
       "</table>\n",
       "</div>"
      ],
      "text/plain": [
       "          Michael  Dwight    Jim    Pam   Andy  Kevin  Angela  Oscar   Ryan  \\\n",
       "positive    0.295   0.263  0.319  0.344  0.274  0.312   0.262  0.241  0.303   \n",
       "neutral     0.581   0.623  0.589  0.566  0.632  0.582   0.605  0.655  0.618   \n",
       "negative    0.124   0.115  0.092  0.090  0.094  0.106   0.133  0.104  0.079   \n",
       "\n",
       "           Erin  \n",
       "positive  0.315  \n",
       "neutral   0.578  \n",
       "negative  0.107  "
      ]
     },
     "execution_count": 295,
     "metadata": {},
     "output_type": "execute_result"
    }
   ],
   "source": [
    "df = pd.DataFrame(data=sentiments)\n",
    "df.index = ['positive', 'neutral', 'negative']\n",
    "df"
   ]
  },
  {
   "cell_type": "markdown",
   "metadata": {},
   "source": [
    "### Visualization"
   ]
  },
  {
   "cell_type": "markdown",
   "metadata": {},
   "source": [
    "After the sentiment analysis I used bar chart to visualize condition of each person."
   ]
  },
  {
   "cell_type": "code",
   "execution_count": 296,
   "metadata": {
    "scrolled": false
   },
   "outputs": [
    {
     "data": {
      "image/png": "[encoded data removed]",
      "text/plain": [
       "<Figure size 432x288 with 1 Axes>"
      ]
     },
     "metadata": {
      "needs_background": "light"
     },
     "output_type": "display_data"
    }
   ],
   "source": [
    "df.transpose().plot(kind='bar',color=[ \"tab:blue\", \"orange\", \"r\"])\n",
    "plt.show()"
   ]
  },
  {
   "cell_type": "markdown",
   "metadata": {},
   "source": [
    "### Most positive and most negative persons"
   ]
  },
  {
   "cell_type": "markdown",
   "metadata": {},
   "source": [
    "In this part I determined the most positive and the most negative persons."
   ]
  },
  {
   "cell_type": "code",
   "execution_count": 297,
   "metadata": {
    "scrolled": true
   },
   "outputs": [
    {
     "name": "stdout",
     "output_type": "stream",
     "text": [
      "most positive persons: Pam  Jim  Erin  \n",
      "most negative persons: Angela  Michael  Dwight  "
     ]
    }
   ],
   "source": [
    "positively_sorted = {k: v for k, v in sorted(sentiments.items(), key=lambda item: item[1][0], reverse=True)}\n",
    "negatively_sorted = {k: v for k, v in sorted(sentiments.items(), key=lambda item: item[1][2], reverse=True)}\n",
    "\n",
    "most_positive_persons = {}\n",
    "most_negative_persons = {}\n",
    "\n",
    "counter = 1\n",
    "print(\"most positive persons: \", end='')\n",
    "for person in positively_sorted:\n",
    "    print(person, end='  ')\n",
    "    if counter > 2:\n",
    "        break\n",
    "    counter += 1\n",
    "\n",
    "print()\n",
    "print(\"most negative persons: \", end='')\n",
    "counter = 1\n",
    "for person in negatively_sorted:\n",
    "    most_negative_persons[person] = negatively_sorted[person]\n",
    "    print(person, end='  ')\n",
    "    if counter > 2:\n",
    "        break\n",
    "    counter += 1"
   ]
  },
  {
   "cell_type": "markdown",
   "metadata": {},
   "source": [
    "### Pie chart for sentiment analysis"
   ]
  },
  {
   "cell_type": "markdown",
   "metadata": {},
   "source": [
    "Finally I plot the sentiment data for the 6 people that have been mentioned above, in different pie charts. "
   ]
  },
  {
   "cell_type": "code",
   "execution_count": 287,
   "metadata": {},
   "outputs": [
    {
     "name": "stderr",
     "output_type": "stream",
     "text": [
      "<ipython-input-287-da4b0ece06b2>:21: MatplotlibDeprecationWarning: normalize=None does not normalize if the sum is less than 1 but this behavior is deprecated since 3.3 until two minor releases later. After the deprecation period the default value will be normalize=True. To prevent normalization pass normalize=False \n",
      "  axis[1, 1].pie(df.Michael, colors=colors, labels=labels, explode=explode, autopct='%1.1f%%', counterclock=False, shadow=True)\n"
     ]
    },
    {
     "data": {
      "image/png": "[encoded data removed]",
      "text/plain": [
       "<Figure size 1296x864 with 6 Axes>"
      ]
     },
     "metadata": {},
     "output_type": "display_data"
    }
   ],
   "source": [
    "figure, axis = plt.subplots(2, 3)\n",
    "figure.set_size_inches(18,12)\n",
    "colors = ['tab:green', 'c', 'r']\n",
    "labels = ['positive', 'neutral', 'negitive']\n",
    "explode = (0.2, 0.2, 0.2)\n",
    "\n",
    "#positives\n",
    "axis[0, 0].pie(df.Pam, colors=colors, labels=labels, explode=explode, autopct='%1.1f%%', counterclock=False, shadow=True)\n",
    "axis[0, 0].set_title('Pam', fontname=\"Times New Roman\", fontweight=\"bold\")\n",
    "\n",
    "axis[0, 1].pie(df.Jim, colors=colors, labels=labels, explode=explode, autopct='%1.1f%%', counterclock=False, shadow=True)\n",
    "axis[0, 1].set_title('Jim', fontname=\"Times New Roman\", fontweight=\"bold\")\n",
    "\n",
    "axis[0, 2].pie(df.Erin, colors=colors, labels=labels, explode=explode, autopct='%1.1f%%', counterclock=False, shadow=True)\n",
    "axis[0, 2].set_title('Erin', fontname=\"Times New Roman\", fontweight=\"bold\")\n",
    "\n",
    "#negatives\n",
    "axis[1, 0].pie(df.Angela, colors=colors, labels=labels, explode=explode, autopct='%1.1f%%', counterclock=False, shadow=True)\n",
    "axis[1, 0].set_title('Angela', fontname=\"Times New Roman\", fontweight=\"bold\", color=\"r\")\n",
    "\n",
    "axis[1, 1].pie(df.Michael, colors=colors, labels=labels, explode=explode, autopct='%1.1f%%', counterclock=False, shadow=True)\n",
    "axis[1, 1].set_title('Michael', fontname=\"Times New Roman\", fontweight=\"bold\", color=\"r\")\n",
    "\n",
    "axis[1, 2].pie(df.Dwight, colors=colors, labels=labels, explode=explode, autopct='%1.1f%%', counterclock=False, shadow=True)\n",
    "axis[1, 2].set_title('Dwight', fontname=\"Times New Roman\", fontweight=\"bold\", color=\"r\")\n",
    "\n",
    "\n",
    "plt.show()"
   ]
  }
 ],
 "metadata": {
  "interpreter": {
   "hash": "1baa965d5efe3ac65b79dfc60c0d706280b1da80fedb7760faf2759126c4f253"
  },
  "kernelspec": {
   "display_name": "Python 3",
   "language": "python",
   "name": "python3"
  },
  "language_info": {
   "codemirror_mode": {
    "name": "ipython",
    "version": 3
   },
   "file_extension": ".py",
   "mimetype": "text/x-python",
   "name": "python",
   "nbconvert_exporter": "python",
   "pygments_lexer": "ipython3",
   "version": "3.8.8"
  }
 },
 "nbformat": 4,
 "nbformat_minor": 2
}
